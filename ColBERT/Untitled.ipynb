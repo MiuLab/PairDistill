{
 "cells": [
  {
   "cell_type": "code",
   "execution_count": 22,
   "id": "dfe007f0-08bf-4d56-bf33-276cc3534042",
   "metadata": {},
   "outputs": [],
   "source": [
    "import torch\n",
    "import torch.nn.functional as F\n",
    "\n",
    "duo_file = \"experiments/official-neg63-point-mini-pair-r2-4-colbertv2/retrieve/2024-01-22_17.40.07/msmarco.mini.duo\"\n",
    "mono_file = \"experiments/official-neg63-point-mini-pair-r2-4-colbertv2/retrieve/2024-01-22_17.40.07/msmarco.mini\"\n",
    "retr_file = \"experiments/official-neg63-point-mini-pair-r2-4-colbertv2/retrieve/2024-01-22_17.40.07/msmarco.train.nbits=2.ranking.tsv\""
   ]
  },
  {
   "cell_type": "code",
   "execution_count": 25,
   "id": "2ef2237c-9985-44ff-9f2a-3ed28dc65d0c",
   "metadata": {},
   "outputs": [],
   "source": [
    "scores = {}\n",
    "for line in open(retr_file):\n",
    "    qid, pid, _, score = line.strip().split('\\t')\n",
    "    qid, pid, score = int(qid), int(pid), float(score)\n",
    "\n",
    "    if qid not in scores:\n",
    "        scores[qid] = {}\n",
    "\n",
    "    scores[qid][pid] = score"
   ]
  },
  {
   "cell_type": "code",
   "execution_count": 27,
   "id": "da637cb6-12db-4afb-8d68-8dfd8d4149e3",
   "metadata": {},
   "outputs": [],
   "source": [
    "scores_mini = {}\n",
    "\n",
    "for line in open(mono_file):\n",
    "    qid, pid, score, _ = line.strip().split('\\t')\n",
    "    qid, pid, score = int(qid), int(pid), float(score)\n",
    "\n",
    "    if qid not in scores_mini:\n",
    "        scores_mini[qid] = {}\n",
    "\n",
    "    scores_mini[qid][pid] = score"
   ]
  },
  {
   "cell_type": "code",
   "execution_count": 34,
   "id": "a8961342-fa25-4cac-9642-daa6cf34458c",
   "metadata": {},
   "outputs": [],
   "source": [
    "count = total = 0\n",
    "\n",
    "for line in open(duo_file):\n",
    "    qid, pid1, pid2, score_true, score_false = line.strip().split('\\t')\n",
    "    qid, pid1, pid2, score_true, score_false = int(qid), int(pid1), int(pid2), float(score_true), float(score_false)\n",
    "\n",
    "    # score = F.softmax(torch.tensor([score_true, score_false]), dim=0)[0].item()\n",
    "    # score_retr = F.softmax(torch.tensor([scores[qid][pid1], scores[qid][pid2]]), dim=0)[0].item()\n",
    "\n",
    "    # print(f\"{score:.4f}, {1 - score:.4f}, {score_retr:.4f}, {1 - score_retr:.4f}\")\n",
    "\n",
    "    if scores[qid][pid1] >= scores[qid][pid2] and score_true < score_false:\n",
    "        count += 1\n",
    "    elif scores[qid][pid1] < scores[qid][pid2] and score_true >= score_false:\n",
    "        count += 1\n",
    "    total += 1\n",
    "\n",
    "    # if total == 10000:\n",
    "    #     break"
   ]
  },
  {
   "cell_type": "code",
   "execution_count": 35,
   "id": "0903edb0-1bd1-40b0-908a-f18c0ef9edb7",
   "metadata": {},
   "outputs": [
    {
     "data": {
      "text/plain": [
       "(2571224, 6469848)"
      ]
     },
     "execution_count": 35,
     "metadata": {},
     "output_type": "execute_result"
    }
   ],
   "source": [
    "count, total"
   ]
  },
  {
   "cell_type": "code",
   "execution_count": 7,
   "id": "fbba7c04-f065-4223-96cf-89aaddde5fb0",
   "metadata": {
    "scrolled": true
   },
   "outputs": [
    {
     "data": {
      "text/plain": [
       "[1048585, 2, 524332]"
      ]
     },
     "execution_count": 7,
     "metadata": {},
     "output_type": "execute_result"
    }
   ],
   "source": [
    "list(scores.keys())[:3]"
   ]
  },
  {
   "cell_type": "code",
   "execution_count": null,
   "id": "8ddbee79-8c3f-4633-aeac-1415feda86ad",
   "metadata": {},
   "outputs": [],
   "source": []
  }
 ],
 "metadata": {
  "kernelspec": {
   "display_name": "Python 3 (ipykernel)",
   "language": "python",
   "name": "python3"
  },
  "language_info": {
   "codemirror_mode": {
    "name": "ipython",
    "version": 3
   },
   "file_extension": ".py",
   "mimetype": "text/x-python",
   "name": "python",
   "nbconvert_exporter": "python",
   "pygments_lexer": "ipython3",
   "version": "3.8.18"
  }
 },
 "nbformat": 4,
 "nbformat_minor": 5
}
